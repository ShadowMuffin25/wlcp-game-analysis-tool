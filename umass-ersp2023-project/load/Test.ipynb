{
 "cells": [
  {
   "cell_type": "code",
   "execution_count": 1,
   "metadata": {},
   "outputs": [],
   "source": [
    "import transformers"
   ]
  },
  {
   "cell_type": "code",
   "execution_count": 2,
   "metadata": {},
   "outputs": [
    {
     "data": {
      "application/vnd.jupyter.widget-view+json": {
       "model_id": "8f3869c05bbd489ca17d59f7e8271e4a",
       "version_major": 2,
       "version_minor": 0
      },
      "text/plain": [
       "Downloading:   0%|          | 0.00/232k [00:00<?, ?B/s]"
      ]
     },
     "metadata": {},
     "output_type": "display_data"
    },
    {
     "data": {
      "application/vnd.jupyter.widget-view+json": {
       "model_id": "477e898458874c9d824fd17a2f129bec",
       "version_major": 2,
       "version_minor": 0
      },
      "text/plain": [
       "Downloading:   0%|          | 0.00/28.0 [00:00<?, ?B/s]"
      ]
     },
     "metadata": {},
     "output_type": "display_data"
    },
    {
     "data": {
      "application/vnd.jupyter.widget-view+json": {
       "model_id": "280353e3de8141fa92520a2653c35fbd",
       "version_major": 2,
       "version_minor": 0
      },
      "text/plain": [
       "Downloading:   0%|          | 0.00/570 [00:00<?, ?B/s]"
      ]
     },
     "metadata": {},
     "output_type": "display_data"
    }
   ],
   "source": [
    "import torch\n",
    "from transformers import BertTokenizer, BertModel\n",
    "import matplotlib.pyplot as plt\n",
    "tokenizer = BertTokenizer.from_pretrained('bert-base-uncased')\n"
   ]
  },
  {
   "cell_type": "code",
   "execution_count": 34,
   "metadata": {},
   "outputs": [],
   "source": [
    "import json\n",
    "import pandas as pd\n",
    "from ast import literal_eval\n",
    "import glob\n",
    "import csv\n",
    "import copy"
   ]
  },
  {
   "cell_type": "code",
   "execution_count": 35,
   "metadata": {},
   "outputs": [],
   "source": [
    "path_to_json = \"../data/\"\n",
    "data = []\n",
    "\n",
    "files = sorted(glob.glob('../data/*', recursive=False))\n",
    "\n",
    "\n",
    "for single_file in files:\n",
    "    with open(single_file, 'r') as f:\n",
    "        json_file = json.load(f)\n",
    "        new_string = json.dumps(json_file, indent = 2)\n",
    "        # print(new_string)\n",
    "        data.append(json_file)"
   ]
  },
  {
   "cell_type": "code",
   "execution_count": 36,
   "metadata": {},
   "outputs": [],
   "source": [
    "c = []\n",
    "for single_file in data:\n",
    "    temp = single_file['states']\n",
    "    d = []\n",
    "    #print('------------------------------')\n",
    "    for i in temp:\n",
    "        att = list(i.keys())\n",
    "        for key in att:\n",
    "            if (key == 'displayText'):\n",
    "                s = ''\n",
    "                text = list(i[key].keys())\n",
    "                for j in text:\n",
    "                    s += i[key][j]\n",
    "                d.append(s)\n",
    "    c.append(d)\n"
   ]
  },
  {
   "cell_type": "code",
   "execution_count": 37,
   "metadata": {},
   "outputs": [
    {
     "name": "stdout",
     "output_type": "stream",
     "text": [
      "[[101, 100, 100, 100, 100, 100, 100, 102], [101, 100, 100, 100, 100, 100, 100, 100, 100, 102], [101, 100, 100, 100, 100, 100, 100, 100, 100, 100, 100, 100, 102], [101, 100, 100, 100, 102], [101, 100, 100, 100, 100, 100, 102], [101, 100, 100, 100, 100, 100, 100, 100, 100, 100, 100, 100, 100, 100, 100, 100, 102], [101, 100, 100, 100, 100, 100, 100, 100, 100, 100, 100, 100, 100, 100, 100, 102], [101, 100, 100, 100, 100, 100, 100, 100, 100, 100, 100, 100, 100, 100, 100, 100, 100, 100, 100, 100, 100, 100, 100, 100, 100, 100, 100, 100, 100, 100, 100, 100, 100, 100, 100, 100, 102], [101, 100, 100, 100, 100, 100, 100, 100, 100, 100, 102]]\n"
     ]
    }
   ],
   "source": [
    "encoding = []\n",
    "for i in c:\n",
    "    encoding.append(tokenizer.encode(i))\n",
    "print(encoding)\n"
   ]
  }
 ],
 "metadata": {
  "kernelspec": {
   "display_name": "base",
   "language": "python",
   "name": "python3"
  },
  "language_info": {
   "codemirror_mode": {
    "name": "ipython",
    "version": 3
   },
   "file_extension": ".py",
   "mimetype": "text/x-python",
   "name": "python",
   "nbconvert_exporter": "python",
   "pygments_lexer": "ipython3",
   "version": "3.10.9"
  },
  "orig_nbformat": 4
 },
 "nbformat": 4,
 "nbformat_minor": 2
}
