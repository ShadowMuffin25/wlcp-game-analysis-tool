{
 "cells": [
  {
   "attachments": {},
   "cell_type": "markdown",
   "metadata": {},
   "source": [
    "1. Importing and converting to Python Object"
   ]
  },
  {
   "cell_type": "code",
   "execution_count": 3,
   "metadata": {},
   "outputs": [],
   "source": [
    "import json\n",
    "import re\n",
    "from functools import reduce\n",
    "import glob"
   ]
  },
  {
   "attachments": {},
   "cell_type": "markdown",
   "metadata": {},
   "source": [
    "Load data from fsm_data folder. Currently, the manual analysis do have the game DidYouCatchTheBall, TheDice, and Tangram so we temporary remove them until we receive manual analysis.\n"
   ]
  },
  {
   "cell_type": "code",
   "execution_count": 27,
   "metadata": {},
   "outputs": [
    {
     "name": "stdout",
     "output_type": "stream",
     "text": [
      "{'gameId': 'The dice', 'teamCount': 4, 'playersPerTeam': 3, 'username': {'usernameId': ''}, 'visibility': True, 'stateIdCount': 9, 'transitionIdCount': 9, 'connectionIdCount': 10, 'dataLog': False, 'states': [{'stateType': 'START_STATE', 'stateId': '74122bc887b34237fd75ac304b9c55bd_start', 'game': 'The dice', 'positionX': 488.0, 'positionY': 100.0, 'inputConnections': [], 'outputConnections': ['74122bc887b34237fd75ac304b9c55bd_connection_1'], 'globalVariables': []}, {'stateType': 'OUTPUT_STATE', 'stateId': '74122bc887b34237fd75ac304b9c55bd_state_1', 'game': 'The dice', 'positionX': 205.0, 'positionY': 114.0, 'inputConnections': ['74122bc887b34237fd75ac304b9c55bd_connection_1'], 'outputConnections': ['74122bc887b34237fd75ac304b9c55bd_connection_2'], 'description': 'State', 'displayText': {'Game Wide': 'hi welcome to the dice game\\n\\nEnter poop'}, 'pictureOutputs': {'Game Wide': {'url': 'https://dev.wearablelearning.org/wlcp-api/objectStoreController/files/16099ba2-89e4-41de-a416-fc65145dad40', 'scale': 50}}, 'soundOutputs': {'Game Wide': {'url': 'https://dev.wearablelearning.org/wlcp-api/objectStoreController/files/39bdeff5-5e86-484b-9b7a-eeba503ca41c'}}, 'videoOutputs': {}, 'globalVariables': {}}, {'stateType': 'OUTPUT_STATE', 'stateId': '74122bc887b34237fd75ac304b9c55bd_state_2', 'game': 'The dice', 'positionX': 290.0, 'positionY': 374.0, 'inputConnections': ['74122bc887b34237fd75ac304b9c55bd_connection_2'], 'outputConnections': ['74122bc887b34237fd75ac304b9c55bd_connection_4'], 'description': 'State', 'displayText': {'Game Wide': '           RULES\\n\\n4 people per game\\n4 groups\\nno fighting and hitting\\nroll number two get another roll\\nroll it for shapes so u can build something out of it.\\nAnd winnnnnnn!!!!!!\\n\\nInsert subway sufers'}, 'pictureOutputs': {}, 'soundOutputs': {'Game Wide': {'url': 'https://dev.wearablelearning.org/wlcp-api/objectStoreController/files/2a18087a-e79a-4519-92f3-d6d5b936c1d3'}}, 'videoOutputs': {}, 'globalVariables': {}}, {'stateType': 'OUTPUT_STATE', 'stateId': '74122bc887b34237fd75ac304b9c55bd_state_3', 'game': 'The dice', 'positionX': 448.0, 'positionY': 626.0, 'inputConnections': ['74122bc887b34237fd75ac304b9c55bd_connection_4'], 'outputConnections': ['74122bc887b34237fd75ac304b9c55bd_connection_10', '74122bc887b34237fd75ac304b9c55bd_connection_5', '74122bc887b34237fd75ac304b9c55bd_connection_6', '74122bc887b34237fd75ac304b9c55bd_connection_7', '74122bc887b34237fd75ac304b9c55bd_connection_8', '74122bc887b34237fd75ac304b9c55bd_connection_9'], 'description': 'State', 'displayText': {'Game Wide': 'roll the dice.\\ntype in what number you get\\n'}, 'pictureOutputs': {}, 'soundOutputs': {}, 'videoOutputs': {}, 'globalVariables': {}}, {'stateType': 'OUTPUT_STATE', 'stateId': '74122bc887b34237fd75ac304b9c55bd_state_4', 'game': 'The dice', 'positionX': 73.0, 'positionY': 895.0, 'inputConnections': ['74122bc887b34237fd75ac304b9c55bd_connection_5'], 'outputConnections': [], 'description': '1', 'displayText': {'Game Wide': 'collect 1 shape or collect that color.'}, 'pictureOutputs': {}, 'soundOutputs': {}, 'videoOutputs': {}, 'globalVariables': {}}, {'stateType': 'OUTPUT_STATE', 'stateId': '74122bc887b34237fd75ac304b9c55bd_state_5', 'game': 'The dice', 'positionX': 260.0, 'positionY': 902.0, 'inputConnections': ['74122bc887b34237fd75ac304b9c55bd_connection_6'], 'outputConnections': [], 'description': '2', 'displayText': {'Game Wide': 'reroll until you get a new number'}, 'pictureOutputs': {}, 'soundOutputs': {}, 'videoOutputs': {}, 'globalVariables': {}}, {'stateType': 'OUTPUT_STATE', 'stateId': '74122bc887b34237fd75ac304b9c55bd_state_6', 'game': 'The dice', 'positionX': 443.0, 'positionY': 900.0, 'inputConnections': ['74122bc887b34237fd75ac304b9c55bd_connection_7'], 'outputConnections': [], 'description': '3', 'displayText': {'Game Wide': 'collect 3 shapes or collect that color'}, 'pictureOutputs': {}, 'soundOutputs': {}, 'videoOutputs': {}, 'globalVariables': {}}, {'stateType': 'OUTPUT_STATE', 'stateId': '74122bc887b34237fd75ac304b9c55bd_state_7', 'game': 'The dice', 'positionX': 619.0, 'positionY': 900.0, 'inputConnections': ['74122bc887b34237fd75ac304b9c55bd_connection_8'], 'outputConnections': [], 'description': '4', 'displayText': {'Game Wide': '\\ncollect 4 shapes or collect that color'}, 'pictureOutputs': {}, 'soundOutputs': {}, 'videoOutputs': {}, 'globalVariables': {}}, {'stateType': 'OUTPUT_STATE', 'stateId': '74122bc887b34237fd75ac304b9c55bd_state_8', 'game': 'The dice', 'positionX': 800.0, 'positionY': 896.0, 'inputConnections': ['74122bc887b34237fd75ac304b9c55bd_connection_9'], 'outputConnections': [], 'description': '5', 'displayText': {'Game Wide': 'collect 5 shapes or collect that color'}, 'pictureOutputs': {}, 'soundOutputs': {}, 'videoOutputs': {}, 'globalVariables': {}}, {'stateType': 'OUTPUT_STATE', 'stateId': '74122bc887b34237fd75ac304b9c55bd_state_9', 'game': 'The dice', 'positionX': 978.0, 'positionY': 889.0, 'inputConnections': ['74122bc887b34237fd75ac304b9c55bd_connection_10'], 'outputConnections': [], 'description': '6', 'displayText': {'Game Wide': 'collect 6 shapes or colloct that color'}, 'pictureOutputs': {}, 'soundOutputs': {}, 'videoOutputs': {}, 'globalVariables': {}}], 'connections': [{'connectionId': '74122bc887b34237fd75ac304b9c55bd_connection_1', 'game': 'The dice', 'connectionFrom': '74122bc887b34237fd75ac304b9c55bd_start', 'connectionTo': '74122bc887b34237fd75ac304b9c55bd_state_1', 'backwardsLoop': False, 'transition': None}, {'connectionId': '74122bc887b34237fd75ac304b9c55bd_connection_10', 'game': 'The dice', 'connectionFrom': '74122bc887b34237fd75ac304b9c55bd_state_3', 'connectionTo': '74122bc887b34237fd75ac304b9c55bd_state_9', 'backwardsLoop': False, 'transition': '74122bc887b34237fd75ac304b9c55bd_transition_9'}, {'connectionId': '74122bc887b34237fd75ac304b9c55bd_connection_2', 'game': 'The dice', 'connectionFrom': '74122bc887b34237fd75ac304b9c55bd_state_1', 'connectionTo': '74122bc887b34237fd75ac304b9c55bd_state_2', 'backwardsLoop': False, 'transition': '74122bc887b34237fd75ac304b9c55bd_transition_1'}, {'connectionId': '74122bc887b34237fd75ac304b9c55bd_connection_4', 'game': 'The dice', 'connectionFrom': '74122bc887b34237fd75ac304b9c55bd_state_2', 'connectionTo': '74122bc887b34237fd75ac304b9c55bd_state_3', 'backwardsLoop': False, 'transition': '74122bc887b34237fd75ac304b9c55bd_transition_3'}, {'connectionId': '74122bc887b34237fd75ac304b9c55bd_connection_5', 'game': 'The dice', 'connectionFrom': '74122bc887b34237fd75ac304b9c55bd_state_3', 'connectionTo': '74122bc887b34237fd75ac304b9c55bd_state_4', 'backwardsLoop': False, 'transition': '74122bc887b34237fd75ac304b9c55bd_transition_4'}, {'connectionId': '74122bc887b34237fd75ac304b9c55bd_connection_6', 'game': 'The dice', 'connectionFrom': '74122bc887b34237fd75ac304b9c55bd_state_3', 'connectionTo': '74122bc887b34237fd75ac304b9c55bd_state_5', 'backwardsLoop': False, 'transition': '74122bc887b34237fd75ac304b9c55bd_transition_5'}, {'connectionId': '74122bc887b34237fd75ac304b9c55bd_connection_7', 'game': 'The dice', 'connectionFrom': '74122bc887b34237fd75ac304b9c55bd_state_3', 'connectionTo': '74122bc887b34237fd75ac304b9c55bd_state_6', 'backwardsLoop': False, 'transition': '74122bc887b34237fd75ac304b9c55bd_transition_6'}, {'connectionId': '74122bc887b34237fd75ac304b9c55bd_connection_8', 'game': 'The dice', 'connectionFrom': '74122bc887b34237fd75ac304b9c55bd_state_3', 'connectionTo': '74122bc887b34237fd75ac304b9c55bd_state_7', 'backwardsLoop': False, 'transition': '74122bc887b34237fd75ac304b9c55bd_transition_7'}, {'connectionId': '74122bc887b34237fd75ac304b9c55bd_connection_9', 'game': 'The dice', 'connectionFrom': '74122bc887b34237fd75ac304b9c55bd_state_3', 'connectionTo': '74122bc887b34237fd75ac304b9c55bd_state_8', 'backwardsLoop': False, 'transition': '74122bc887b34237fd75ac304b9c55bd_transition_8'}], 'transitions': [{'transitionId': '74122bc887b34237fd75ac304b9c55bd_transition_1', 'game': 'The dice', 'connection': '74122bc887b34237fd75ac304b9c55bd_connection_2', 'activeTransitions': {'Game Wide': 'Text Entry'}, 'singleButtonPresses': {}, 'sequenceButtonPresses': {}, 'keyboardInputs': {'Game Wide': {'keyboardInputId': '74122bc887b34237fd75ac304b9c55bd_transition_1_game_wide', 'transition': '74122bc887b34237fd75ac304b9c55bd_transition_1', 'scope': 'Game Wide', 'keyboardInputs': ['team name', 'poop']}}, 'timerDurations': {}, 'randoms': {}, 'globalVariables': {'Game Wide': {'globalVariableId': '74122bc887b34237fd75ac304b9c55bd_transition_1_game_wide', 'transition': '74122bc887b34237fd75ac304b9c55bd_transition_1', 'scope': 'Game Wide', 'globalVariableInputModifiers': []}}}, {'transitionId': '74122bc887b34237fd75ac304b9c55bd_transition_3', 'game': 'The dice', 'connection': '74122bc887b34237fd75ac304b9c55bd_connection_4', 'activeTransitions': {'Game Wide': 'Text Entry'}, 'singleButtonPresses': {}, 'sequenceButtonPresses': {}, 'keyboardInputs': {'Game Wide': {'keyboardInputId': '74122bc887b34237fd75ac304b9c55bd_transition_3_game_wide', 'transition': '74122bc887b34237fd75ac304b9c55bd_transition_3', 'scope': 'Game Wide', 'keyboardInputs': ['subway sufers']}}, 'timerDurations': {}, 'randoms': {}, 'globalVariables': {'Game Wide': {'globalVariableId': '74122bc887b34237fd75ac304b9c55bd_transition_3_game_wide', 'transition': '74122bc887b34237fd75ac304b9c55bd_transition_3', 'scope': 'Game Wide', 'globalVariableInputModifiers': []}}}, {'transitionId': '74122bc887b34237fd75ac304b9c55bd_transition_4', 'game': 'The dice', 'connection': '74122bc887b34237fd75ac304b9c55bd_connection_5', 'activeTransitions': {'Game Wide': 'Text Entry'}, 'singleButtonPresses': {}, 'sequenceButtonPresses': {}, 'keyboardInputs': {'Game Wide': {'keyboardInputId': '74122bc887b34237fd75ac304b9c55bd_transition_4_game_wide', 'transition': '74122bc887b34237fd75ac304b9c55bd_transition_4', 'scope': 'Game Wide', 'keyboardInputs': ['1']}}, 'timerDurations': {}, 'randoms': {}, 'globalVariables': {'Game Wide': {'globalVariableId': '74122bc887b34237fd75ac304b9c55bd_transition_4_game_wide', 'transition': '74122bc887b34237fd75ac304b9c55bd_transition_4', 'scope': 'Game Wide', 'globalVariableInputModifiers': []}}}, {'transitionId': '74122bc887b34237fd75ac304b9c55bd_transition_5', 'game': 'The dice', 'connection': '74122bc887b34237fd75ac304b9c55bd_connection_6', 'activeTransitions': {'Game Wide': 'Text Entry'}, 'singleButtonPresses': {}, 'sequenceButtonPresses': {}, 'keyboardInputs': {'Game Wide': {'keyboardInputId': '74122bc887b34237fd75ac304b9c55bd_transition_5_game_wide', 'transition': '74122bc887b34237fd75ac304b9c55bd_transition_5', 'scope': 'Game Wide', 'keyboardInputs': ['2']}}, 'timerDurations': {}, 'randoms': {}, 'globalVariables': {'Game Wide': {'globalVariableId': '74122bc887b34237fd75ac304b9c55bd_transition_5_game_wide', 'transition': '74122bc887b34237fd75ac304b9c55bd_transition_5', 'scope': 'Game Wide', 'globalVariableInputModifiers': []}}}, {'transitionId': '74122bc887b34237fd75ac304b9c55bd_transition_6', 'game': 'The dice', 'connection': '74122bc887b34237fd75ac304b9c55bd_connection_7', 'activeTransitions': {'Game Wide': 'Text Entry'}, 'singleButtonPresses': {}, 'sequenceButtonPresses': {}, 'keyboardInputs': {'Game Wide': {'keyboardInputId': '74122bc887b34237fd75ac304b9c55bd_transition_6_game_wide', 'transition': '74122bc887b34237fd75ac304b9c55bd_transition_6', 'scope': 'Game Wide', 'keyboardInputs': ['3']}}, 'timerDurations': {}, 'randoms': {}, 'globalVariables': {'Game Wide': {'globalVariableId': '74122bc887b34237fd75ac304b9c55bd_transition_6_game_wide', 'transition': '74122bc887b34237fd75ac304b9c55bd_transition_6', 'scope': 'Game Wide', 'globalVariableInputModifiers': []}}}, {'transitionId': '74122bc887b34237fd75ac304b9c55bd_transition_7', 'game': 'The dice', 'connection': '74122bc887b34237fd75ac304b9c55bd_connection_8', 'activeTransitions': {'Game Wide': 'Text Entry'}, 'singleButtonPresses': {}, 'sequenceButtonPresses': {}, 'keyboardInputs': {'Game Wide': {'keyboardInputId': '74122bc887b34237fd75ac304b9c55bd_transition_7_game_wide', 'transition': '74122bc887b34237fd75ac304b9c55bd_transition_7', 'scope': 'Game Wide', 'keyboardInputs': ['4']}}, 'timerDurations': {}, 'randoms': {}, 'globalVariables': {'Game Wide': {'globalVariableId': '74122bc887b34237fd75ac304b9c55bd_transition_7_game_wide', 'transition': '74122bc887b34237fd75ac304b9c55bd_transition_7', 'scope': 'Game Wide', 'globalVariableInputModifiers': []}}}, {'transitionId': '74122bc887b34237fd75ac304b9c55bd_transition_8', 'game': 'The dice', 'connection': '74122bc887b34237fd75ac304b9c55bd_connection_9', 'activeTransitions': {'Game Wide': 'Text Entry'}, 'singleButtonPresses': {}, 'sequenceButtonPresses': {}, 'keyboardInputs': {'Game Wide': {'keyboardInputId': '74122bc887b34237fd75ac304b9c55bd_transition_8_game_wide', 'transition': '74122bc887b34237fd75ac304b9c55bd_transition_8', 'scope': 'Game Wide', 'keyboardInputs': ['5']}}, 'timerDurations': {}, 'randoms': {}, 'globalVariables': {'Game Wide': {'globalVariableId': '74122bc887b34237fd75ac304b9c55bd_transition_8_game_wide', 'transition': '74122bc887b34237fd75ac304b9c55bd_transition_8', 'scope': 'Game Wide', 'globalVariableInputModifiers': []}}}, {'transitionId': '74122bc887b34237fd75ac304b9c55bd_transition_9', 'game': 'The dice', 'connection': '74122bc887b34237fd75ac304b9c55bd_connection_10', 'activeTransitions': {'Game Wide': 'Text Entry'}, 'singleButtonPresses': {}, 'sequenceButtonPresses': {}, 'keyboardInputs': {'Game Wide': {'keyboardInputId': '74122bc887b34237fd75ac304b9c55bd_transition_9_game_wide', 'transition': '74122bc887b34237fd75ac304b9c55bd_transition_9', 'scope': 'Game Wide', 'keyboardInputs': ['6']}}, 'timerDurations': {}, 'randoms': {}, 'globalVariables': {'Game Wide': {'globalVariableId': '74122bc887b34237fd75ac304b9c55bd_transition_9_game_wide', 'transition': '74122bc887b34237fd75ac304b9c55bd_transition_9', 'scope': 'Game Wide', 'globalVariableInputModifiers': []}}}]}\n"
     ]
    }
   ],
   "source": [
    "main_dir = '../fsm-data/'\n",
    "f1 = open(main_dir + 'DidYouCatchTheBall_US.json')\n",
    "f2 = open(main_dir + 'fireballs20-US.json')\n",
    "f3 = open(main_dir + 'Hackers_IN.json')\n",
    "f4 = open(main_dir + 'Indianboys_IN.json')\n",
    "f5 = open(main_dir + 'Indiangirls_IN.json')\n",
    "f6 = open(main_dir + 'MathParkour_US.json')\n",
    "f7 = open(main_dir + 'Raistar_IN.json')\n",
    "f8 = open(main_dir + 'TangramsRace.json')\n",
    "f9 = open(main_dir + 'TheDice_US.json')\n",
    "data1 = json.load(f1)\n",
    "data2 = json.load(f2)\n",
    "data3 = json.load(f3)\n",
    "data4 = json.load(f4)\n",
    "data5 = json.load(f5)\n",
    "data6 = json.load(f6)\n",
    "data7 = json.load(f7)\n",
    "data8 = json.load(f8)\n",
    "data9 = json.load(f9)"
   ]
  },
  {
   "cell_type": "code",
   "execution_count": 36,
   "metadata": {},
   "outputs": [
    {
     "name": "stdout",
     "output_type": "stream",
     "text": [
      "6\n"
     ]
    }
   ],
   "source": [
    "data = []\n",
    "dir = \"../fsm-data/*.json\"\n",
    "old_files = sorted(glob.glob(dir, recursive=False))\n",
    "files = []\n",
    "# Until we got enough data, we can comment out from\n",
    "\n",
    "#here\n",
    "for file in old_files:\n",
    "  if(file != \"../fsm-data\\TheDice_US.json\" and file != \"../fsm-data\\DidYouCatchTheBall_US.json\" and file != \"../fsm-data\\TangramsRace.json\"):\n",
    "    files.append(file)\n",
    "#to_here\n",
    "\n",
    "print(len(files))\n",
    "for single_file in files:\n",
    "    with open(single_file, 'r') as f:\n",
    "        json_file = json.load(f)\n",
    "        # new_string = json.dumps(json_file, indent = 2)\n",
    "        data.append(json_file)"
   ]
  },
  {
   "attachments": {},
   "cell_type": "markdown",
   "metadata": {},
   "source": [
    "Testing purpose"
   ]
  },
  {
   "cell_type": "code",
   "execution_count": 18,
   "metadata": {},
   "outputs": [],
   "source": [
    "new_string = json.dumps(data, indent = 2)\n",
    "new_string1 = json.dumps(data, indent = 2)\n",
    "# print(new_string)\n",
    "# print(new_string1)"
   ]
  },
  {
   "attachments": {},
   "cell_type": "markdown",
   "metadata": {},
   "source": [
    "2. Defining Graph"
   ]
  },
  {
   "cell_type": "code",
   "execution_count": 21,
   "metadata": {},
   "outputs": [],
   "source": [
    "class Graph:\n",
    "    global adj, cnt\n",
    "    def __init__(self, V): #this part like a constructor...\n",
    "        self.V = V\n",
    "        self.adj = [[] for i in range(V)]\n",
    "        self.cnt = 0\n",
    "\n",
    "    def add_edge(self, source, dest):\n",
    "        self.adj[source].append(dest)\n",
    "        \n",
    "    def is_cyclic_util(self, i, visited, rec_stack):\n",
    "        if(rec_stack[i]):\n",
    "            self.cnt += 1\n",
    "            return\n",
    "        if(visited[i]): return\n",
    "        visited[i] = True\n",
    "        rec_stack[i] = True\n",
    "        children = self.adj[i]\n",
    "        \n",
    "        for c in children:\n",
    "            self.is_cyclic_util(c, visited, rec_stack)\n",
    "        \n",
    "        rec_stack[i] = False\n",
    "        return\n",
    "    \n",
    "    def count(self):\n",
    "        visited = [False for i in range(self.V)]\n",
    "        rec_stack = [False for i in range(self.V)]\n",
    "        for i in range(self.V):\n",
    "            self.is_cyclic_util(i, visited, rec_stack)\n",
    "        return self.cnt"
   ]
  },
  {
   "attachments": {},
   "cell_type": "markdown",
   "metadata": {},
   "source": [
    "3. Methods for counting loops through states and connections"
   ]
  },
  {
   "cell_type": "code",
   "execution_count": 22,
   "metadata": {},
   "outputs": [],
   "source": [
    "#this method hashing state to its corresponding index\n",
    "#Important: if the number of state does not\n",
    "def index(s, dic, idx):\n",
    "    tmp = re.findall(\"\\d+\\Z\", s)\n",
    "    return 0 if len(tmp) == 0 else int(tmp[0])\n",
    "# print(index(\"74122bc887b34237fd75ac304b9c55bd_state_10\"))"
   ]
  },
  {
   "cell_type": "code",
   "execution_count": 23,
   "metadata": {},
   "outputs": [],
   "source": [
    "#this method create a dictonary: connection = (state_from, state_to)\n",
    "#return type: dictionary\n",
    "def con_to_state(lst):\n",
    "    dic = {}\n",
    "    idx = 0\n",
    "    state_to_idx = {}\n",
    "    for e in lst:\n",
    "        if(state_to_idx.get(e[\"connectionFrom\"]) == None):\n",
    "            state_to_idx[e[\"connectionFrom\"]] = idx\n",
    "            idx += 1\n",
    "        if(state_to_idx.get(e[\"connectionTo\"]) == None):\n",
    "            state_to_idx[e[\"connectionTo\"]] = idx\n",
    "            idx += 1\n",
    "        dic[e[\"connectionId\"]] = (state_to_idx[e[\"connectionFrom\"]], state_to_idx[e[\"connectionTo\"]])\n",
    "    return dic\n"
   ]
  },
  {
   "cell_type": "code",
   "execution_count": 24,
   "metadata": {},
   "outputs": [],
   "source": [
    "def create_graph(data):\n",
    "    graph = Graph(len(data[\"states\"]))\n",
    "        \n",
    "    conv = con_to_state(data[\"connections\"])\n",
    "    \n",
    "    for e in data[\"states\"]:\n",
    "        # print(e[\"outputConnections\"])\n",
    "        for oc in e[\"outputConnections\"]:\n",
    "            start = conv[oc][0]\n",
    "            end = conv[oc][1]\n",
    "            graph.add_edge(start, end)\n",
    "    # print(graph.adj)\n",
    "    return graph\n"
   ]
  },
  {
   "cell_type": "code",
   "execution_count": 35,
   "metadata": {},
   "outputs": [],
   "source": [
    "def count_loop(graph):\n",
    "    return graph.count()\n",
    "\n",
    "def count_if_else(graph):\n",
    "    return reduce(lambda acc, cur: acc + len(cur) if len(cur) > 1 else acc, graph.adj, 0)\n",
    "\n",
    "def traversal(array):\n",
    "    res = []\n",
    "    for idx, e in enumerate(array):\n",
    "        graph = create_graph(e)\n",
    "        loop = count_loop(graph)\n",
    "        if_else = count_if_else(graph)\n",
    "        print(\"There are \" + str(loop) + \" loops and there are \" + str(if_else) + \" branches in the \" + str(idx + 1) + \" graph\\n\")\n",
    "        res.append((loop, if_else))\n",
    "    return #res\n",
    "# you can return loop and if_else as an array of tuples by comment out the #res"
   ]
  },
  {
   "attachments": {},
   "cell_type": "markdown",
   "metadata": {},
   "source": [
    "4. Implementing: counting loops and count if-else statements"
   ]
  },
  {
   "cell_type": "code",
   "execution_count": 33,
   "metadata": {},
   "outputs": [
    {
     "name": "stdout",
     "output_type": "stream",
     "text": [
      "There are 2 loops and there are 4 branches in the 0 graph\n",
      "\n",
      "There are 0 loops and there are 0 branches in the 1 graph\n",
      "\n",
      "There are 1 loops and there are 2 branches in the 2 graph\n",
      "\n",
      "There are 0 loops and there are 0 branches in the 3 graph\n",
      "\n",
      "There are 4 loops and there are 8 branches in the 4 graph\n",
      "\n",
      "There are 1 loops and there are 4 branches in the 5 graph\n",
      "\n"
     ]
    }
   ],
   "source": [
    "traversal(data)"
   ]
  },
  {
   "cell_type": "code",
   "execution_count": null,
   "metadata": {},
   "outputs": [],
   "source": []
  }
 ],
 "metadata": {
  "kernelspec": {
   "display_name": "Python 3",
   "language": "python",
   "name": "python3"
  },
  "language_info": {
   "codemirror_mode": {
    "name": "ipython",
    "version": 3
   },
   "file_extension": ".py",
   "mimetype": "text/x-python",
   "name": "python",
   "nbconvert_exporter": "python",
   "pygments_lexer": "ipython3",
   "version": "3.9.13"
  },
  "orig_nbformat": 4
 },
 "nbformat": 4,
 "nbformat_minor": 2
}
