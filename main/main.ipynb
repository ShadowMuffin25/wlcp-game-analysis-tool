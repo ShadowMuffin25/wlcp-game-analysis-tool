{
 "cells": [
  {
   "attachments": {},
   "cell_type": "markdown",
   "metadata": {},
   "source": [
    "1. Importing and converting to Python Object"
   ]
  },
  {
   "cell_type": "code",
   "execution_count": 2,
   "metadata": {},
   "outputs": [],
   "source": [
    "import json\n",
    "import re\n",
    "from functools import reduce"
   ]
  },
  {
   "cell_type": "code",
   "execution_count": 3,
   "metadata": {},
   "outputs": [],
   "source": [
    "main_dir = '../JSON/'\n",
    "f1 = open(main_dir + 'DidYouCatchTheBall_US.json')\n",
    "f2 = open(main_dir + 'Fireballs20_US.json')\n",
    "f3 = open(main_dir + 'Hackers_IN.json')\n",
    "f4 = open(main_dir + 'Indianboys_IN.json')\n",
    "f5 = open(main_dir + 'Indiangirls_IN.json')\n",
    "f6 = open(main_dir + 'MathParkour_US.json')\n",
    "f7 = open(main_dir + 'Raistar_IN.json')\n",
    "f8 = open(main_dir + 'TangramsRace.json')\n",
    "f9 = open(main_dir + 'TheDice_US.json')\n",
    "data1 = json.load(f1)\n",
    "data2 = json.load(f2)\n",
    "data3 = json.load(f3)\n",
    "data4 = json.load(f4)\n",
    "data5 = json.load(f5)\n",
    "data6 = json.load(f6)\n",
    "data7 = json.load(f7)\n",
    "data8 = json.load(f8)\n",
    "data = json.load(f9)"
   ]
  },
  {
   "cell_type": "code",
   "execution_count": 21,
   "metadata": {},
   "outputs": [],
   "source": [
    "new_string = json.dumps(data, indent = 2)\n",
    "new_string1 = json.dumps(data, indent = 2)\n",
    "# print(new_string)\n",
    "# print(new_string1)"
   ]
  },
  {
   "cell_type": "code",
   "execution_count": 5,
   "metadata": {},
   "outputs": [
    {
     "name": "stdout",
     "output_type": "stream",
     "text": [
      "74122bc887b34237fd75ac304b9c55bd_start\n",
      "74122bc887b34237fd75ac304b9c55bd_state_1\n",
      "74122bc887b34237fd75ac304b9c55bd_state_2\n",
      "74122bc887b34237fd75ac304b9c55bd_state_3\n",
      "74122bc887b34237fd75ac304b9c55bd_state_4\n",
      "74122bc887b34237fd75ac304b9c55bd_state_5\n",
      "74122bc887b34237fd75ac304b9c55bd_state_6\n",
      "74122bc887b34237fd75ac304b9c55bd_state_7\n",
      "74122bc887b34237fd75ac304b9c55bd_state_8\n",
      "74122bc887b34237fd75ac304b9c55bd_state_9\n"
     ]
    }
   ],
   "source": [
    "for e in data[\"states\"]:\n",
    "    print(e[\"stateId\"])\n"
   ]
  },
  {
   "cell_type": "code",
   "execution_count": 6,
   "metadata": {},
   "outputs": [
    {
     "name": "stdout",
     "output_type": "stream",
     "text": [
      "10\n"
     ]
    }
   ],
   "source": [
    "print(len(data[\"states\"]))"
   ]
  },
  {
   "attachments": {},
   "cell_type": "markdown",
   "metadata": {},
   "source": [
    "2. Defining Graph"
   ]
  },
  {
   "cell_type": "code",
   "execution_count": 7,
   "metadata": {},
   "outputs": [],
   "source": [
    "class Graph:\n",
    "    global adj, cnt\n",
    "    def __init__(self, V): #this part like a constructor...\n",
    "        self.V = V\n",
    "        self.adj = [[] for i in range(V)]\n",
    "        self.cnt = 0\n",
    "\n",
    "    def add_edge(self, source, dest):\n",
    "        self.adj[source].append(dest)\n",
    "        \n",
    "    def is_cyclic_util(self, i, visited, rec_stack):\n",
    "        if(rec_stack[i]):\n",
    "            self.cnt += 1\n",
    "            return\n",
    "        if(visited[i]): return\n",
    "        visited[i] = True\n",
    "        rec_stack[i] = True\n",
    "        children = self.adj[i]\n",
    "        \n",
    "        for c in children:\n",
    "            self.is_cyclic_util(c, visited, rec_stack)\n",
    "        \n",
    "        rec_stack[i] = False\n",
    "        return\n",
    "    \n",
    "    def count(self):\n",
    "        visited = [False for i in range(self.V)]\n",
    "        rec_stack = [False for i in range(self.V)]\n",
    "        for i in range(self.V):\n",
    "            self.is_cyclic_util(i, visited, rec_stack)\n",
    "        return self.cnt"
   ]
  },
  {
   "attachments": {},
   "cell_type": "markdown",
   "metadata": {},
   "source": [
    "3. Methods for counting loops through states and connections"
   ]
  },
  {
   "cell_type": "code",
   "execution_count": 8,
   "metadata": {},
   "outputs": [],
   "source": [
    "#this method hashing state to its corresponding index\n",
    "#Important: if the number of state does not\n",
    "def index(s, dic, idx):\n",
    "    tmp = re.findall(\"\\d+\\Z\", s)\n",
    "    return 0 if len(tmp) == 0 else int(tmp[0])\n",
    "# print(index(\"74122bc887b34237fd75ac304b9c55bd_state_10\"))"
   ]
  },
  {
   "cell_type": "code",
   "execution_count": 9,
   "metadata": {},
   "outputs": [],
   "source": [
    "#this method create a dictonary: connection = (state_from, state_to)\n",
    "#return type: dictionary\n",
    "def con_to_state(lst):\n",
    "    dic = {}\n",
    "    idx = 0\n",
    "    state_to_idx = {}\n",
    "    for e in lst:\n",
    "        if(state_to_idx.get(e[\"connectionFrom\"]) == None):\n",
    "            state_to_idx[e[\"connectionFrom\"]] = idx\n",
    "            idx += 1\n",
    "        if(state_to_idx.get(e[\"connectionTo\"]) == None):\n",
    "            state_to_idx[e[\"connectionTo\"]] = idx\n",
    "            idx += 1\n",
    "        dic[e[\"connectionId\"]] = (state_to_idx[e[\"connectionFrom\"]], state_to_idx[e[\"connectionTo\"]])\n",
    "    return dic\n"
   ]
  },
  {
   "cell_type": "code",
   "execution_count": 10,
   "metadata": {},
   "outputs": [],
   "source": [
    "def create_graph(data):\n",
    "    graph = Graph(len(data[\"states\"]))\n",
    "        \n",
    "    conv = con_to_state(data[\"connections\"])\n",
    "    \n",
    "    for e in data[\"states\"]:\n",
    "        # print(e[\"outputConnections\"])\n",
    "        for oc in e[\"outputConnections\"]:\n",
    "            start = conv[oc][0]\n",
    "            end = conv[oc][1]\n",
    "            graph.add_edge(start, end)\n",
    "    # print(graph.adj)\n",
    "    return graph\n"
   ]
  },
  {
   "cell_type": "code",
   "execution_count": 11,
   "metadata": {},
   "outputs": [],
   "source": [
    "def count_loop(graph):\n",
    "    return graph.count()\n",
    "\n",
    "def count_if_else(graph):\n",
    "    return reduce(lambda acc, cur: acc + len(cur) if len(cur) > 1 else acc, graph.adj, 0)"
   ]
  },
  {
   "attachments": {},
   "cell_type": "markdown",
   "metadata": {},
   "source": [
    "4. Implementing: counting loops and count if-else statements"
   ]
  },
  {
   "cell_type": "code",
   "execution_count": 20,
   "metadata": {},
   "outputs": [
    {
     "name": "stdout",
     "output_type": "stream",
     "text": [
      "0\n",
      "6\n"
     ]
    }
   ],
   "source": [
    "graph = create_graph(data)\n",
    "print(count_loop(graph))\n",
    "print(count_if_else(graph))"
   ]
  },
  {
   "cell_type": "code",
   "execution_count": null,
   "metadata": {},
   "outputs": [],
   "source": []
  }
 ],
 "metadata": {
  "kernelspec": {
   "display_name": "Python 3",
   "language": "python",
   "name": "python3"
  },
  "language_info": {
   "codemirror_mode": {
    "name": "ipython",
    "version": 3
   },
   "file_extension": ".py",
   "mimetype": "text/x-python",
   "name": "python",
   "nbconvert_exporter": "python",
   "pygments_lexer": "ipython3",
   "version": "3.9.13"
  },
  "orig_nbformat": 4
 },
 "nbformat": 4,
 "nbformat_minor": 2
}
